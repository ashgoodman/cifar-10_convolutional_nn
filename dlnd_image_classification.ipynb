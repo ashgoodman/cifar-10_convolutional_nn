{
 "cells": [
  {
   "cell_type": "markdown",
   "metadata": {
    "collapsed": true
   },
   "source": [
    "# Image Classification\n",
    "In this project, you'll classify images from the [CIFAR-10 dataset](https://www.cs.toronto.edu/~kriz/cifar.html).  The dataset consists of airplanes, dogs, cats, and other objects. You'll preprocess the images, then train a convolutional neural network on all the samples. The images need to be normalized and the labels need to be one-hot encoded.  You'll get to apply what you learned and build a convolutional, max pooling, dropout, and fully connected layers.  At the end, you'll get to see your neural network's predictions on the sample images.\n",
    "## Get the Data\n",
    "Run the following cell to download the [CIFAR-10 dataset for python](https://www.cs.toronto.edu/~kriz/cifar-10-python.tar.gz)."
   ]
  },
  {
   "cell_type": "code",
   "execution_count": 29,
   "metadata": {
    "collapsed": false
   },
   "outputs": [
    {
     "name": "stdout",
     "output_type": "stream",
     "text": [
      "All files found!\n"
     ]
    }
   ],
   "source": [
    "\"\"\"\n",
    "DON'T MODIFY ANYTHING IN THIS CELL THAT IS BELOW THIS LINE\n",
    "\"\"\"\n",
    "from urllib.request import urlretrieve\n",
    "from os.path import isfile, isdir\n",
    "from tqdm import tqdm\n",
    "import problem_unittests as tests\n",
    "import tarfile\n",
    "\n",
    "cifar10_dataset_folder_path = 'cifar-10-batches-py'\n",
    "\n",
    "class DLProgress(tqdm):\n",
    "    last_block = 0\n",
    "\n",
    "    def hook(self, block_num=1, block_size=1, total_size=None):\n",
    "        self.total = total_size\n",
    "        self.update((block_num - self.last_block) * block_size)\n",
    "        self.last_block = block_num\n",
    "\n",
    "if not isfile('cifar-10-python.tar.gz'):\n",
    "    with DLProgress(unit='B', unit_scale=True, miniters=1, desc='CIFAR-10 Dataset') as pbar:\n",
    "        urlretrieve(\n",
    "            'https://www.cs.toronto.edu/~kriz/cifar-10-python.tar.gz',\n",
    "            'cifar-10-python.tar.gz',\n",
    "            pbar.hook)\n",
    "\n",
    "if not isdir(cifar10_dataset_folder_path):\n",
    "    with tarfile.open('cifar-10-python.tar.gz') as tar:\n",
    "        tar.extractall()\n",
    "        tar.close()\n",
    "\n",
    "\n",
    "tests.test_folder_path(cifar10_dataset_folder_path)"
   ]
  },
  {
   "cell_type": "markdown",
   "metadata": {},
   "source": [
    "## Explore the Data\n",
    "The dataset is broken into batches to prevent your machine from running out of memory.  The CIFAR-10 dataset consists of 5 batches, named `data_batch_1`, `data_batch_2`, etc.. Each batch contains the labels and images that are one of the following:\n",
    "* airplane\n",
    "* automobile\n",
    "* bird\n",
    "* cat\n",
    "* deer\n",
    "* dog\n",
    "* frog\n",
    "* horse\n",
    "* ship\n",
    "* truck\n",
    "\n",
    "Understanding a dataset is part of making predictions on the data.  Play around with the code cell below by changing the `batch_id` and `sample_id`. The `batch_id` is the id for a batch (1-5). The `sample_id` is the id for a image and label pair in the batch.\n",
    "\n",
    "Ask yourself \"What are all possible labels?\", \"What is the range of values for the image data?\", \"Are the labels in order or random?\".  Answers to questions like these will help you preprocess the data and end up with better predictions."
   ]
  },
  {
   "cell_type": "code",
   "execution_count": 30,
   "metadata": {
    "collapsed": false
   },
   "outputs": [
    {
     "name": "stdout",
     "output_type": "stream",
     "text": [
      "\n",
      "Stats of batch 4:\n",
      "Samples: 10000\n",
      "Label Counts: {0: 1003, 1: 963, 2: 1041, 3: 976, 4: 1004, 5: 1021, 6: 1004, 7: 981, 8: 1024, 9: 983}\n",
      "First 20 Labels: [0, 6, 0, 2, 7, 2, 1, 2, 4, 1, 5, 6, 6, 3, 1, 3, 5, 5, 8, 1]\n",
      "\n",
      "Example of Image 123:\n",
      "Image - Min Value: 20 Max Value: 243\n",
      "Image - Shape: (32, 32, 3)\n",
      "Label - Label Id: 8 Name: ship\n"
     ]
    },
    {
     "data": {
      "image/png": "[encoded data removed]",
      "text/plain": [
       "<matplotlib.figure.Figure at 0x7f12008c5e10>"
      ]
     },
     "metadata": {
      "image/png": {
       "height": 250,
       "width": 253
      }
     },
     "output_type": "display_data"
    }
   ],
   "source": [
    "%matplotlib inline\n",
    "%config InlineBackend.figure_format = 'retina'\n",
    "\n",
    "import helper\n",
    "import numpy as np\n",
    "\n",
    "# Explore the dataset\n",
    "batch_id = 4\n",
    "sample_id = 123\n",
    "helper.display_stats(cifar10_dataset_folder_path, batch_id, sample_id)"
   ]
  },
  {
   "cell_type": "markdown",
   "metadata": {},
   "source": [
    "## Implement Preprocess Functions\n",
    "### Normalize\n",
    "In the cell below, implement the `normalize` function to take in image data, `x`, and return it as a normalized Numpy array. The values should be in the range of 0 to 1, inclusive.  The return object should be the same shape as `x`."
   ]
  },
  {
   "cell_type": "code",
   "execution_count": 31,
   "metadata": {
    "collapsed": false
   },
   "outputs": [
    {
     "name": "stdout",
     "output_type": "stream",
     "text": [
      "Tests Passed\n"
     ]
    }
   ],
   "source": [
    "def normalize(x):\n",
    "    \"\"\"\n",
    "    Normalize a list of sample image data in the range of 0 to 1\n",
    "    : x: List of image data.  The image shape is (32, 32, 3)\n",
    "    : return: Numpy array of normalize data\n",
    "    \"\"\"\n",
    "    # TODO: Implement Function\n",
    "    return (x / 255.0)\n",
    "\n",
    "\n",
    "\n",
    "\n",
    "\"\"\"\n",
    "DON'T MODIFY ANYTHING IN THIS CELL THAT IS BELOW THIS LINE\n",
    "\"\"\"\n",
    "tests.test_normalize(normalize)"
   ]
  },
  {
   "cell_type": "markdown",
   "metadata": {},
   "source": [
    "### One-hot encode\n",
    "Just like the previous code cell, you'll be implementing a function for preprocessing.  This time, you'll implement the `one_hot_encode` function. The input, `x`, are a list of labels.  Implement the function to return the list of labels as One-Hot encoded Numpy array.  The possible values for labels are 0 to 9. The one-hot encoding function should return the same encoding for each value between each call to `one_hot_encode`.  Make sure to save the map of encodings outside the function.\n",
    "\n",
    "Hint: Don't reinvent the wheel."
   ]
  },
  {
   "cell_type": "code",
   "execution_count": 32,
   "metadata": {
    "collapsed": false
   },
   "outputs": [
    {
     "name": "stdout",
     "output_type": "stream",
     "text": [
      "Tests Passed\n"
     ]
    }
   ],
   "source": [
    "def one_hot_encode(x):\n",
    "    \"\"\"\n",
    "    One hot encode a list of sample labels. Return a one-hot encoded vector for each label.\n",
    "    : x: List of sample Labels\n",
    "    : return: Numpy array of one-hot encoded labels\n",
    "    \"\"\"\n",
    "    # TODO: Implement Function\n",
    "    #https://www.reddit.com/r/MachineLearning/comments/31fk7i/converting_target_indices_to_onehotvector/\n",
    "    x = np.eye(10)[x]\n",
    "    return x\n",
    "\n",
    "\n",
    "\"\"\"\n",
    "DON'T MODIFY ANYTHING IN THIS CELL THAT IS BELOW THIS LINE\n",
    "\"\"\"\n",
    "tests.test_one_hot_encode(one_hot_encode)"
   ]
  },
  {
   "cell_type": "markdown",
   "metadata": {},
   "source": [
    "### Randomize Data\n",
    "As you saw from exploring the data above, the order of the samples are randomized.  It doesn't hurt to randomize it again, but you don't need to for this dataset."
   ]
  },
  {
   "cell_type": "markdown",
   "metadata": {},
   "source": [
    "## Preprocess all the data and save it\n",
    "Running the code cell below will preprocess all the CIFAR-10 data and save it to file. The code below also uses 10% of the training data for validation."
   ]
  },
  {
   "cell_type": "code",
   "execution_count": 33,
   "metadata": {
    "collapsed": false
   },
   "outputs": [],
   "source": [
    "\"\"\"\n",
    "DON'T MODIFY ANYTHING IN THIS CELL\n",
    "\"\"\"\n",
    "# Preprocess Training, Validation, and Testing Data\n",
    "helper.preprocess_and_save_data(cifar10_dataset_folder_path, normalize, one_hot_encode)"
   ]
  },
  {
   "cell_type": "markdown",
   "metadata": {},
   "source": [
    "# Check Point\n",
    "This is your first checkpoint.  If you ever decide to come back to this notebook or have to restart the notebook, you can start from here.  The preprocessed data has been saved to disk."
   ]
  },
  {
   "cell_type": "code",
   "execution_count": 34,
   "metadata": {
    "collapsed": true
   },
   "outputs": [],
   "source": [
    "\"\"\"\n",
    "DON'T MODIFY ANYTHING IN THIS CELL\n",
    "\"\"\"\n",
    "import pickle\n",
    "import problem_unittests as tests\n",
    "import helper\n",
    "\n",
    "# Load the Preprocessed Validation data\n",
    "valid_features, valid_labels = pickle.load(open('preprocess_validation.p', mode='rb'))"
   ]
  },
  {
   "cell_type": "markdown",
   "metadata": {},
   "source": [
    "## Build the network\n",
    "For the neural network, you'll build each layer into a function.  Most of the code you've seen has been outside of functions. To test your code more thoroughly, we require that you put each layer in a function.  This allows us to give you better feedback and test for simple mistakes using our unittests before you submit your project.\n",
    "\n",
    ">**Note:** If you're finding it hard to dedicate enough time for this course each week, we've provided a small shortcut to this part of the project. In the next couple of problems, you'll have the option to use classes from the [TensorFlow Layers](https://www.tensorflow.org/api_docs/python/tf/layers) or [TensorFlow Layers (contrib)](https://www.tensorflow.org/api_guides/python/contrib.layers) packages to build each layer, except the layers you build in the \"Convolutional and Max Pooling Layer\" section.  TF Layers is similar to Keras's and TFLearn's abstraction to layers, so it's easy to pickup.\n",
    "\n",
    ">However, if you would like to get the most out of this course, try to solve all the problems _without_ using anything from the TF Layers packages. You **can** still use classes from other packages that happen to have the same name as ones you find in TF Layers! For example, instead of using the TF Layers version of the `conv2d` class, [tf.layers.conv2d](https://www.tensorflow.org/api_docs/python/tf/layers/conv2d), you would want to use the TF Neural Network version of `conv2d`, [tf.nn.conv2d](https://www.tensorflow.org/api_docs/python/tf/nn/conv2d). \n",
    "\n",
    "Let's begin!\n",
    "\n",
    "### Input\n",
    "The neural network needs to read the image data, one-hot encoded labels, and dropout keep probability. Implement the following functions\n",
    "* Implement `neural_net_image_input`\n",
    " * Return a [TF Placeholder](https://www.tensorflow.org/api_docs/python/tf/placeholder)\n",
    " * Set the shape using `image_shape` with batch size set to `None`.\n",
    " * Name the TensorFlow placeholder \"x\" using the TensorFlow `name` parameter in the [TF Placeholder](https://www.tensorflow.org/api_docs/python/tf/placeholder).\n",
    "* Implement `neural_net_label_input`\n",
    " * Return a [TF Placeholder](https://www.tensorflow.org/api_docs/python/tf/placeholder)\n",
    " * Set the shape using `n_classes` with batch size set to `None`.\n",
    " * Name the TensorFlow placeholder \"y\" using the TensorFlow `name` parameter in the [TF Placeholder](https://www.tensorflow.org/api_docs/python/tf/placeholder).\n",
    "* Implement `neural_net_keep_prob_input`\n",
    " * Return a [TF Placeholder](https://www.tensorflow.org/api_docs/python/tf/placeholder) for dropout keep probability.\n",
    " * Name the TensorFlow placeholder \"keep_prob\" using the TensorFlow `name` parameter in the [TF Placeholder](https://www.tensorflow.org/api_docs/python/tf/placeholder).\n",
    "\n",
    "These names will be used at the end of the project to load your saved model.\n",
    "\n",
    "Note: `None` for shapes in TensorFlow allow for a dynamic size."
   ]
  },
  {
   "cell_type": "code",
   "execution_count": 35,
   "metadata": {
    "collapsed": false
   },
   "outputs": [
    {
     "name": "stdout",
     "output_type": "stream",
     "text": [
      "Image Input Tests Passed.\n",
      "Label Input Tests Passed.\n",
      "Keep Prob Tests Passed.\n"
     ]
    }
   ],
   "source": [
    "import tensorflow as tf\n",
    "\n",
    "def neural_net_image_input(image_shape):\n",
    "    \"\"\"\n",
    "    Return a Tensor for a batch of image input\n",
    "    : image_shape: Shape of the images\n",
    "    : return: Tensor for image input.\n",
    "    \"\"\"\n",
    "    # TODO: Implement Function\n",
    "    image_shape = tf.placeholder(tf.float32,shape=[None, image_shape[0], image_shape[1], image_shape[2]], name = 'x')\n",
    "   \n",
    "    return image_shape\n",
    "\n",
    "\n",
    "def neural_net_label_input(n_classes):\n",
    "    \"\"\"\n",
    "    Return a Tensor for a batch of label input\n",
    "    : n_classes: Number of classes\n",
    "    : return: Tensor for label input.\n",
    "    \"\"\"\n",
    "    # TODO: Implement Function\n",
    "    n_classes  = tf.placeholder(tf.float32,shape=[None, n_classes], name = 'y')\n",
    "    return n_classes\n",
    "\n",
    "\n",
    "def neural_net_keep_prob_input():\n",
    "    \"\"\"\n",
    "    Return a Tensor for keep probability\n",
    "    : return: Tensor for keep probability.\n",
    "    \"\"\"\n",
    "    # TODO: Implement Function\n",
    "    keep_prob = tf.placeholder(tf.float32, name = 'keep_prob')\n",
    "    return keep_prob\n",
    "\n",
    "\n",
    "\"\"\"\n",
    "DON'T MODIFY ANYTHING IN THIS CELL THAT IS BELOW THIS LINE\n",
    "\"\"\"\n",
    "tf.reset_default_graph()\n",
    "tests.test_nn_image_inputs(neural_net_image_input)\n",
    "tests.test_nn_label_inputs(neural_net_label_input)\n",
    "tests.test_nn_keep_prob_inputs(neural_net_keep_prob_input)"
   ]
  },
  {
   "cell_type": "markdown",
   "metadata": {},
   "source": [
    "### Convolution and Max Pooling Layer\n",
    "Convolution layers have a lot of success with images. For this code cell, you should implement the function `conv2d_maxpool` to apply convolution then max pooling:\n",
    "* Create the weight and bias using `conv_ksize`, `conv_num_outputs` and the shape of `x_tensor`.\n",
    "* Apply a convolution to `x_tensor` using weight and `conv_strides`.\n",
    " * We recommend you use same padding, but you're welcome to use any padding.\n",
    "* Add bias\n",
    "* Add a nonlinear activation to the convolution.\n",
    "* Apply Max Pooling using `pool_ksize` and `pool_strides`.\n",
    " * We recommend you use same padding, but you're welcome to use any padding.\n",
    "\n",
    "**Note:** You **can't** use [TensorFlow Layers](https://www.tensorflow.org/api_docs/python/tf/layers) or [TensorFlow Layers (contrib)](https://www.tensorflow.org/api_guides/python/contrib.layers) for **this** layer, but you can still use TensorFlow's [Neural Network](https://www.tensorflow.org/api_docs/python/tf/nn) package. You may still use the shortcut option for all the **other** layers."
   ]
  },
  {
   "cell_type": "code",
   "execution_count": 36,
   "metadata": {
    "collapsed": false
   },
   "outputs": [
    {
     "name": "stdout",
     "output_type": "stream",
     "text": [
      "Tests Passed\n"
     ]
    }
   ],
   "source": [
    "def conv2d_maxpool(x_tensor, conv_num_outputs, conv_ksize, conv_strides, pool_ksize, pool_strides):\n",
    "    \"\"\"\n",
    "    Apply convolution then max pooling to x_tensor\n",
    "    :param x_tensor: TensorFlow Tensor\n",
    "    :param conv_num_outputs: Number of outputs for the convolutional layer\n",
    "    :param conv_ksize: kernal size 2-D Tuple for the convolutional layer\n",
    "    :param conv_strides: Stride 2-D Tuple for convolution\n",
    "    :param pool_ksize: kernal size 2-D Tuple for pool\n",
    "    :param pool_strides: Stride 2-D Tuple for pool\n",
    "    : return: A tensor that represents convolution and max pooling of x_tensor\n",
    "    \"\"\"\n",
    "    # TODO: Implement Function\n",
    "    # weights and biases\n",
    "    color_channels = x_tensor.shape[3].value\n",
    "    weights = tf.Variable(tf.truncated_normal([conv_ksize[0],conv_ksize[1], color_channels, conv_num_outputs], mean = 0.0, stddev = 0.05, dtype=tf.float32))\n",
    "    bias = tf.Variable(tf.zeros(conv_num_outputs))\n",
    "    \n",
    "    #apply convolution layer\n",
    "    pancakeStack = tf.nn.conv2d(x_tensor, weights, strides = [1, conv_strides[0], conv_strides[1], 1], \n",
    "                                padding = 'SAME')\n",
    "    \n",
    "    # add bias\n",
    "    pancakeStack = tf.nn.bias_add(pancakeStack, bias)\n",
    "    \n",
    "    #nonlinear activation\n",
    "    pancakeStack = tf.nn.relu(pancakeStack)\n",
    "    \n",
    "    #max pooling\n",
    "    pancakeStack = tf.nn.max_pool(pancakeStack, ksize = [1,pool_ksize[0], pool_ksize[1], 1], \n",
    "                                  strides = [1, pool_strides[0], pool_strides[1],1], \n",
    "                                  padding = 'SAME')\n",
    "    return pancakeStack \n",
    "\n",
    "\n",
    "\"\"\"\n",
    "DON'T MODIFY ANYTHING IN THIS CELL THAT IS BELOW THIS LINE\n",
    "\"\"\"\n",
    "tests.test_con_pool(conv2d_maxpool)"
   ]
  },
  {
   "cell_type": "markdown",
   "metadata": {},
   "source": [
    "### Flatten Layer\n",
    "Implement the `flatten` function to change the dimension of `x_tensor` from a 4-D tensor to a 2-D tensor.  The output should be the shape (*Batch Size*, *Flattened Image Size*). Shortcut option: you can use classes from the [TensorFlow Layers](https://www.tensorflow.org/api_docs/python/tf/layers) or [TensorFlow Layers (contrib)](https://www.tensorflow.org/api_guides/python/contrib.layers) packages for this layer. For more of a challenge, only use other TensorFlow packages."
   ]
  },
  {
   "cell_type": "code",
   "execution_count": 37,
   "metadata": {
    "collapsed": false
   },
   "outputs": [
    {
     "name": "stdout",
     "output_type": "stream",
     "text": [
      "Tests Passed\n"
     ]
    }
   ],
   "source": [
    "def flatten(x_tensor):\n",
    "    \"\"\"\n",
    "    Flatten x_tensor to (Batch Size, Flattened Image Size)\n",
    "    : x_tensor: A tensor of size (Batch Size, ...), where ... are the image dimensions.\n",
    "    : return: A tensor of size (Batch Size, Flattened Image Size).\n",
    "    \"\"\"\n",
    "    # TODO: Implement Function\n",
    "    # https://www.tensorflow.org/api_docs/python/tf/contrib/layers/flatten\n",
    "    X_flat = tf.contrib.layers.flatten(x_tensor)\n",
    "    return X_flat\n",
    "\n",
    "\n",
    "\"\"\"\n",
    "DON'T MODIFY ANYTHING IN THIS CELL THAT IS BELOW THIS LINE\n",
    "\"\"\"\n",
    "tests.test_flatten(flatten)"
   ]
  },
  {
   "cell_type": "markdown",
   "metadata": {},
   "source": [
    "### Fully-Connected Layer\n",
    "Implement the `fully_conn` function to apply a fully connected layer to `x_tensor` with the shape (*Batch Size*, *num_outputs*). Shortcut option: you can use classes from the [TensorFlow Layers](https://www.tensorflow.org/api_docs/python/tf/layers) or [TensorFlow Layers (contrib)](https://www.tensorflow.org/api_guides/python/contrib.layers) packages for this layer. For more of a challenge, only use other TensorFlow packages."
   ]
  },
  {
   "cell_type": "code",
   "execution_count": 38,
   "metadata": {
    "collapsed": false
   },
   "outputs": [
    {
     "name": "stdout",
     "output_type": "stream",
     "text": [
      "Tests Passed\n"
     ]
    }
   ],
   "source": [
    "def fully_conn(x_tensor, num_outputs):\n",
    "    \"\"\"\n",
    "    Apply a fully connected layer to x_tensor using weight and bias\n",
    "    : x_tensor: A 2-D tensor where the first dimension is batch size.\n",
    "    : num_outputs: The number of output that the new tensor should be.\n",
    "    : return: A 2-D tensor where the second dimension is num_outputs.\n",
    "    \"\"\"\n",
    "    # TODO: Implement Function\n",
    "    #https://www.tensorflow.org/versions/master/api_docs/python/contrib.layers/higher_level_ops_for_building_neural_network_layers_#fully_connected\n",
    "    fc = tf.contrib.layers.fully_connected(x_tensor,num_outputs)\n",
    "    return fc\n",
    "\n",
    "\n",
    "\"\"\"\n",
    "DON'T MODIFY ANYTHING IN THIS CELL THAT IS BELOW THIS LINE\n",
    "\"\"\"\n",
    "tests.test_fully_conn(fully_conn)"
   ]
  },
  {
   "cell_type": "markdown",
   "metadata": {},
   "source": [
    "### Output Layer\n",
    "Implement the `output` function to apply a fully connected layer to `x_tensor` with the shape (*Batch Size*, *num_outputs*). Shortcut option: you can use classes from the [TensorFlow Layers](https://www.tensorflow.org/api_docs/python/tf/layers) or [TensorFlow Layers (contrib)](https://www.tensorflow.org/api_guides/python/contrib.layers) packages for this layer. For more of a challenge, only use other TensorFlow packages.\n",
    "\n",
    "**Note:** Activation, softmax, or cross entropy should **not** be applied to this."
   ]
  },
  {
   "cell_type": "code",
   "execution_count": 39,
   "metadata": {
    "collapsed": false
   },
   "outputs": [
    {
     "name": "stdout",
     "output_type": "stream",
     "text": [
      "Tests Passed\n"
     ]
    }
   ],
   "source": [
    "def output(x_tensor, num_outputs):\n",
    "    \"\"\"\n",
    "    Apply a output layer to x_tensor using weight and bias\n",
    "    : x_tensor: A 2-D tensor where the first dimension is batch size.\n",
    "    : num_outputs: The number of output that the new tensor should be.\n",
    "    : return: A 2-D tensor where the second dimension is num_outputs.\n",
    "    \"\"\"\n",
    "    # TODO: Implement Function#https://www.tensorflow.org/api_docs/python/tf/contrib/layers/fully_connected\n",
    "    output = tf.contrib.layers.fully_connected (x_tensor, num_outputs)\n",
    "    return output\n",
    "\n",
    "\n",
    "\"\"\"\n",
    "DON'T MODIFY ANYTHING IN THIS CELL THAT IS BELOW THIS LINE\n",
    "\"\"\"\n",
    "tests.test_output(output)"
   ]
  },
  {
   "cell_type": "markdown",
   "metadata": {},
   "source": [
    "### Create Convolutional Model\n",
    "Implement the function `conv_net` to create a convolutional neural network model. The function takes in a batch of images, `x`, and outputs logits.  Use the layers you created above to create this model:\n",
    "\n",
    "* Apply 1, 2, or 3 Convolution and Max Pool layers\n",
    "* Apply a Flatten Layer\n",
    "* Apply 1, 2, or 3 Fully Connected Layers\n",
    "* Apply an Output Layer\n",
    "* Return the output\n",
    "* Apply [TensorFlow's Dropout](https://www.tensorflow.org/api_docs/python/tf/nn/dropout) to one or more layers in the model using `keep_prob`. "
   ]
  },
  {
   "cell_type": "code",
   "execution_count": 40,
   "metadata": {
    "collapsed": false
   },
   "outputs": [
    {
     "name": "stdout",
     "output_type": "stream",
     "text": [
      "Neural Network Built!\n"
     ]
    }
   ],
   "source": [
    "def conv_net(x, keep_prob):\n",
    "    \"\"\"\n",
    "    Create a convolutional neural network model\n",
    "    : x: Placeholder tensor that holds image data.\n",
    "    : keep_prob: Placeholder tensor that hold dropout keep probability.\n",
    "    : return: Tensor that represents logits\n",
    "    \"\"\"\n",
    "    \n",
    "    # TODO: Apply 1, 2, or 3 Convolution and Max Pool layers\n",
    "    #    Play around with different number of outputs, kernel size and stride\n",
    "    # Function Definition from Above:\n",
    "    #    conv2d_maxpool(x_tensor, conv_num_outputs, conv_ksize, conv_strides, pool_ksize, pool_strides)\n",
    "    model = conv2d_maxpool(x, conv_num_outputs = 16, conv_ksize=(5,5), conv_strides=(1,1), \n",
    "                           pool_ksize=(3,3), pool_strides=(1,1))\n",
    "    model = conv2d_maxpool(model, conv_num_outputs = 32, conv_ksize=(3,3), conv_strides=(1,1), \n",
    "                           pool_ksize=(3,3), pool_strides=(1,1))\n",
    "    model = tf.nn.dropout(model, keep_prob)\n",
    "    model = conv2d_maxpool(model, conv_num_outputs = 64, conv_ksize=(3,3), conv_strides=(1,1), \n",
    "                           pool_ksize=(1,1), pool_strides=(1,1))\n",
    "   \n",
    "    \n",
    "\n",
    "    # TODO: Apply a Flatten Layer\n",
    "    # Function Definition from Above:\n",
    "    #   flatten(x_tensor)\n",
    "    model = flatten(model)\n",
    "\n",
    "    # TODO: Apply 1, 2, or 3 Fully Connected Layers\n",
    "    #    Play around with different number of outputs\n",
    "    # Function Definition from Above:\n",
    "    #   fully_conn(x_tensor, num_outputs)\n",
    "    model = fully_conn(model, 128)\n",
    "    model = fully_conn(model, 128)\n",
    "    model = tf.nn.dropout(model, keep_prob)\n",
    "    model = fully_conn(model, 128)\n",
    "   \n",
    "    \n",
    "    # TODO: Apply an Output Layer\n",
    "    #    Set this to the number of classes\n",
    "    # Function Definition from Above:\n",
    "    #   output(x_tensor, num_outputs)\n",
    "    \n",
    "    model = output(model, 10)\n",
    "    \n",
    "    \n",
    "    # TODO: return output\n",
    "    return model\n",
    "\n",
    "\n",
    "\"\"\"\n",
    "DON'T MODIFY ANYTHING IN THIS CELL THAT IS BELOW THIS LINE\n",
    "\"\"\"\n",
    "\n",
    "##############################\n",
    "## Build the Neural Network ##\n",
    "##############################\n",
    "\n",
    "# Remove previous weights, bias, inputs, etc..\n",
    "tf.reset_default_graph()\n",
    "\n",
    "# Inputs\n",
    "x = neural_net_image_input((32, 32, 3))\n",
    "y = neural_net_label_input(10)\n",
    "keep_prob = neural_net_keep_prob_input()\n",
    "\n",
    "# Model\n",
    "logits = conv_net(x, keep_prob)\n",
    "\n",
    "# Name logits Tensor, so that is can be loaded from disk after training\n",
    "logits = tf.identity(logits, name='logits')\n",
    "\n",
    "# Loss and Optimizer\n",
    "cost = tf.reduce_mean(tf.nn.softmax_cross_entropy_with_logits(logits=logits, labels=y))\n",
    "optimizer = tf.train.AdamOptimizer().minimize(cost)\n",
    "\n",
    "# Accuracy\n",
    "correct_pred = tf.equal(tf.argmax(logits, 1), tf.argmax(y, 1))\n",
    "accuracy = tf.reduce_mean(tf.cast(correct_pred, tf.float32), name='accuracy')\n",
    "\n",
    "tests.test_conv_net(conv_net)"
   ]
  },
  {
   "cell_type": "markdown",
   "metadata": {},
   "source": [
    "## Train the Neural Network\n",
    "### Single Optimization\n",
    "Implement the function `train_neural_network` to do a single optimization.  The optimization should use `optimizer` to optimize in `session` with a `feed_dict` of the following:\n",
    "* `x` for image input\n",
    "* `y` for labels\n",
    "* `keep_prob` for keep probability for dropout\n",
    "\n",
    "This function will be called for each batch, so `tf.global_variables_initializer()` has already been called.\n",
    "\n",
    "Note: Nothing needs to be returned. This function is only optimizing the neural network."
   ]
  },
  {
   "cell_type": "code",
   "execution_count": 41,
   "metadata": {
    "collapsed": false
   },
   "outputs": [
    {
     "name": "stdout",
     "output_type": "stream",
     "text": [
      "Tests Passed\n"
     ]
    }
   ],
   "source": [
    "def train_neural_network(session, optimizer, keep_probability, feature_batch, label_batch):\n",
    "    \"\"\"\n",
    "    Optimize the session on a batch of images and labels\n",
    "    : session: Current TensorFlow session\n",
    "    : optimizer: TensorFlow optimizer function\n",
    "    : keep_probability: keep probability\n",
    "    : feature_batch: Batch of Numpy image data\n",
    "    : label_batch: Batch of Numpy label data\n",
    "    \"\"\"\n",
    "    # TODO: Implement Function\n",
    "    session.run(optimizer, feed_dict={\n",
    "        x: feature_batch, \n",
    "        y: label_batch, \n",
    "        keep_prob: keep_probability})\n",
    "\n",
    "\n",
    "\"\"\"\n",
    "DON'T MODIFY ANYTHING IN THIS CELL THAT IS BELOW THIS LINE\n",
    "\"\"\"\n",
    "tests.test_train_nn(train_neural_network)"
   ]
  },
  {
   "cell_type": "markdown",
   "metadata": {},
   "source": [
    "### Show Stats\n",
    "Implement the function `print_stats` to print loss and validation accuracy.  Use the global variables `valid_features` and `valid_labels` to calculate validation accuracy.  Use a keep probability of `1.0` to calculate the loss and validation accuracy."
   ]
  },
  {
   "cell_type": "code",
   "execution_count": 42,
   "metadata": {
    "collapsed": false
   },
   "outputs": [],
   "source": [
    "def print_stats(session, feature_batch, label_batch, cost, accuracy):\n",
    "    \"\"\"\n",
    "    Print information about loss and validation accuracy\n",
    "    : session: Current TensorFlow session\n",
    "    : feature_batch: Batch of Numpy image data\n",
    "    : label_batch: Batch of Numpy label data\n",
    "    : cost: TensorFlow cost function\n",
    "    : accuracy: TensorFlow accuracy function\n",
    "    \"\"\"\n",
    "    # TODO: Implement Function\n",
    "    # code adapted from covnet mnist exercise\n",
    "    loss = session.run(cost, feed_dict={x: feature_batch, y: label_batch, keep_prob: 1.0})\n",
    "    valid_acc = session.run(accuracy, feed_dict={ x: valid_features, y:valid_labels, keep_prob: 1.0})\n",
    "    print('Loss: {:>10.4f} Validation Accuracy: {:.6f}'.format( loss, valid_acc))\n"
   ]
  },
  {
   "cell_type": "markdown",
   "metadata": {},
   "source": [
    "### Hyperparameters\n",
    "Tune the following parameters:\n",
    "* Set `epochs` to the number of iterations until the network stops learning or start overfitting\n",
    "* Set `batch_size` to the highest number that your machine has memory for.  Most people set them to common sizes of memory:\n",
    " * 64\n",
    " * 128\n",
    " * 256\n",
    " * ...\n",
    "* Set `keep_probability` to the probability of keeping a node using dropout"
   ]
  },
  {
   "cell_type": "code",
   "execution_count": 43,
   "metadata": {
    "collapsed": true
   },
   "outputs": [],
   "source": [
    "# TODO: Tune Parameters\n",
    "epochs = 50\n",
    "batch_size = 512\n",
    "keep_probability = 0.35"
   ]
  },
  {
   "cell_type": "markdown",
   "metadata": {},
   "source": [
    "### Train on a Single CIFAR-10 Batch\n",
    "Instead of training the neural network on all the CIFAR-10 batches of data, let's use a single batch. This should save time while you iterate on the model to get a better accuracy.  Once the final validation accuracy is 50% or greater, run the model on all the data in the next section."
   ]
  },
  {
   "cell_type": "code",
   "execution_count": 26,
   "metadata": {
    "collapsed": false,
    "scrolled": false
   },
   "outputs": [
    {
     "name": "stdout",
     "output_type": "stream",
     "text": [
      "Checking the Training on a Single Batch...\n",
      "Epoch  1, CIFAR-10 Batch 1:  Loss:     2.3027 Validation Accuracy: 0.101200\n",
      "Epoch  2, CIFAR-10 Batch 1:  Loss:     2.2857 Validation Accuracy: 0.169600\n",
      "Epoch  3, CIFAR-10 Batch 1:  Loss:     2.2607 Validation Accuracy: 0.165600\n",
      "Epoch  4, CIFAR-10 Batch 1:  Loss:     2.1928 Validation Accuracy: 0.227200\n",
      "Epoch  5, CIFAR-10 Batch 1:  Loss:     2.0431 Validation Accuracy: 0.320000\n",
      "Epoch  6, CIFAR-10 Batch 1:  Loss:     1.9319 Validation Accuracy: 0.353000\n",
      "Epoch  7, CIFAR-10 Batch 1:  Loss:     1.8332 Validation Accuracy: 0.359400\n",
      "Epoch  8, CIFAR-10 Batch 1:  Loss:     1.7079 Validation Accuracy: 0.398600\n",
      "Epoch  9, CIFAR-10 Batch 1:  Loss:     1.7171 Validation Accuracy: 0.417200\n",
      "Epoch 10, CIFAR-10 Batch 1:  Loss:     1.5906 Validation Accuracy: 0.433400\n",
      "Epoch 11, CIFAR-10 Batch 1:  Loss:     1.5452 Validation Accuracy: 0.444000\n",
      "Epoch 12, CIFAR-10 Batch 1:  Loss:     1.5448 Validation Accuracy: 0.461600\n",
      "Epoch 13, CIFAR-10 Batch 1:  Loss:     1.4029 Validation Accuracy: 0.478800\n",
      "Epoch 14, CIFAR-10 Batch 1:  Loss:     1.2929 Validation Accuracy: 0.489400\n",
      "Epoch 15, CIFAR-10 Batch 1:  Loss:     1.2328 Validation Accuracy: 0.494000\n",
      "Epoch 16, CIFAR-10 Batch 1:  Loss:     1.1633 Validation Accuracy: 0.501400\n",
      "Epoch 17, CIFAR-10 Batch 1:  Loss:     1.1245 Validation Accuracy: 0.521000\n",
      "Epoch 18, CIFAR-10 Batch 1:  Loss:     1.0584 Validation Accuracy: 0.514200\n",
      "Epoch 19, CIFAR-10 Batch 1:  Loss:     1.0009 Validation Accuracy: 0.517400\n",
      "Epoch 20, CIFAR-10 Batch 1:  Loss:     0.9862 Validation Accuracy: 0.518000\n",
      "Epoch 21, CIFAR-10 Batch 1:  Loss:     0.8587 Validation Accuracy: 0.549600\n",
      "Epoch 22, CIFAR-10 Batch 1:  Loss:     0.7829 Validation Accuracy: 0.536400\n",
      "Epoch 23, CIFAR-10 Batch 1:  Loss:     0.7342 Validation Accuracy: 0.541000\n",
      "Epoch 24, CIFAR-10 Batch 1:  Loss:     0.6497 Validation Accuracy: 0.545600\n",
      "Epoch 25, CIFAR-10 Batch 1:  Loss:     0.6641 Validation Accuracy: 0.546800\n",
      "Epoch 26, CIFAR-10 Batch 1:  Loss:     0.5849 Validation Accuracy: 0.560200\n",
      "Epoch 27, CIFAR-10 Batch 1:  Loss:     0.6070 Validation Accuracy: 0.509000\n",
      "Epoch 28, CIFAR-10 Batch 1:  Loss:     0.5127 Validation Accuracy: 0.527400\n",
      "Epoch 29, CIFAR-10 Batch 1:  Loss:     0.5889 Validation Accuracy: 0.532600\n",
      "Epoch 30, CIFAR-10 Batch 1:  Loss:     0.4948 Validation Accuracy: 0.552200\n",
      "Epoch 31, CIFAR-10 Batch 1:  Loss:     0.4501 Validation Accuracy: 0.545000\n",
      "Epoch 32, CIFAR-10 Batch 1:  Loss:     0.4140 Validation Accuracy: 0.568400\n",
      "Epoch 33, CIFAR-10 Batch 1:  Loss:     0.3383 Validation Accuracy: 0.564600\n",
      "Epoch 34, CIFAR-10 Batch 1:  Loss:     0.3149 Validation Accuracy: 0.559400\n",
      "Epoch 35, CIFAR-10 Batch 1:  Loss:     0.2796 Validation Accuracy: 0.574000\n",
      "Epoch 36, CIFAR-10 Batch 1:  Loss:     0.2860 Validation Accuracy: 0.537600\n",
      "Epoch 37, CIFAR-10 Batch 1:  Loss:     0.2618 Validation Accuracy: 0.556800\n",
      "Epoch 38, CIFAR-10 Batch 1:  Loss:     0.2369 Validation Accuracy: 0.559000\n",
      "Epoch 39, CIFAR-10 Batch 1:  Loss:     0.2354 Validation Accuracy: 0.561800\n",
      "Epoch 40, CIFAR-10 Batch 1:  Loss:     0.2332 Validation Accuracy: 0.555800\n",
      "Epoch 41, CIFAR-10 Batch 1:  Loss:     0.1802 Validation Accuracy: 0.562000\n",
      "Epoch 42, CIFAR-10 Batch 1:  Loss:     0.2008 Validation Accuracy: 0.538800\n",
      "Epoch 43, CIFAR-10 Batch 1:  Loss:     0.1476 Validation Accuracy: 0.566600\n",
      "Epoch 44, CIFAR-10 Batch 1:  Loss:     0.1349 Validation Accuracy: 0.574000\n",
      "Epoch 45, CIFAR-10 Batch 1:  Loss:     0.1403 Validation Accuracy: 0.545000\n",
      "Epoch 46, CIFAR-10 Batch 1:  Loss:     0.1286 Validation Accuracy: 0.560200\n",
      "Epoch 47, CIFAR-10 Batch 1:  Loss:     0.1345 Validation Accuracy: 0.551600\n",
      "Epoch 48, CIFAR-10 Batch 1:  Loss:     0.1267 Validation Accuracy: 0.552000\n",
      "Epoch 49, CIFAR-10 Batch 1:  Loss:     0.1112 Validation Accuracy: 0.561800\n",
      "Epoch 50, CIFAR-10 Batch 1:  Loss:     0.1494 Validation Accuracy: 0.535600\n"
     ]
    }
   ],
   "source": [
    "\"\"\"\n",
    "DON'T MODIFY ANYTHING IN THIS CELL\n",
    "\"\"\"\n",
    "print('Checking the Training on a Single Batch...')\n",
    "with tf.Session() as sess:\n",
    "    # Initializing the variables\n",
    "    sess.run(tf.global_variables_initializer())\n",
    "    \n",
    "    # Training cycle\n",
    "    for epoch in range(epochs):\n",
    "        batch_i = 1\n",
    "        for batch_features, batch_labels in helper.load_preprocess_training_batch(batch_i, batch_size):\n",
    "            train_neural_network(sess, optimizer, keep_probability, batch_features, batch_labels)\n",
    "        print('Epoch {:>2}, CIFAR-10 Batch {}:  '.format(epoch + 1, batch_i), end='')\n",
    "        print_stats(sess, batch_features, batch_labels, cost, accuracy)"
   ]
  },
  {
   "cell_type": "markdown",
   "metadata": {},
   "source": [
    "### Fully Train the Model\n",
    "Now that you got a good accuracy with a single CIFAR-10 batch, try it with all five batches."
   ]
  },
  {
   "cell_type": "code",
   "execution_count": 27,
   "metadata": {
    "collapsed": false,
    "scrolled": false
   },
   "outputs": [
    {
     "name": "stdout",
     "output_type": "stream",
     "text": [
      "Training...\n",
      "Epoch  1, CIFAR-10 Batch 1:  Loss:     2.3026 Validation Accuracy: 0.114000\n",
      "Epoch  1, CIFAR-10 Batch 2:  Loss:     2.2939 Validation Accuracy: 0.119200\n",
      "Epoch  1, CIFAR-10 Batch 3:  Loss:     2.2554 Validation Accuracy: 0.193000\n",
      "Epoch  1, CIFAR-10 Batch 4:  Loss:     2.1971 Validation Accuracy: 0.184200\n",
      "Epoch  1, CIFAR-10 Batch 5:  Loss:     2.1899 Validation Accuracy: 0.186600\n",
      "Epoch  2, CIFAR-10 Batch 1:  Loss:     2.2283 Validation Accuracy: 0.203800\n",
      "Epoch  2, CIFAR-10 Batch 2:  Loss:     2.1569 Validation Accuracy: 0.238600\n",
      "Epoch  2, CIFAR-10 Batch 3:  Loss:     2.1017 Validation Accuracy: 0.264800\n",
      "Epoch  2, CIFAR-10 Batch 4:  Loss:     1.9276 Validation Accuracy: 0.299600\n",
      "Epoch  2, CIFAR-10 Batch 5:  Loss:     1.7958 Validation Accuracy: 0.351400\n",
      "Epoch  3, CIFAR-10 Batch 1:  Loss:     1.8168 Validation Accuracy: 0.364800\n",
      "Epoch  3, CIFAR-10 Batch 2:  Loss:     1.6476 Validation Accuracy: 0.386800\n",
      "Epoch  3, CIFAR-10 Batch 3:  Loss:     1.4884 Validation Accuracy: 0.424000\n",
      "Epoch  3, CIFAR-10 Batch 4:  Loss:     1.4917 Validation Accuracy: 0.441800\n",
      "Epoch  3, CIFAR-10 Batch 5:  Loss:     1.5444 Validation Accuracy: 0.420800\n",
      "Epoch  4, CIFAR-10 Batch 1:  Loss:     1.6456 Validation Accuracy: 0.423000\n",
      "Epoch  4, CIFAR-10 Batch 2:  Loss:     1.4530 Validation Accuracy: 0.457200\n",
      "Epoch  4, CIFAR-10 Batch 3:  Loss:     1.3778 Validation Accuracy: 0.448600\n",
      "Epoch  4, CIFAR-10 Batch 4:  Loss:     1.3608 Validation Accuracy: 0.487000\n",
      "Epoch  4, CIFAR-10 Batch 5:  Loss:     1.4028 Validation Accuracy: 0.473600\n",
      "Epoch  5, CIFAR-10 Batch 1:  Loss:     1.5510 Validation Accuracy: 0.453000\n",
      "Epoch  5, CIFAR-10 Batch 2:  Loss:     1.3542 Validation Accuracy: 0.502800\n",
      "Epoch  5, CIFAR-10 Batch 3:  Loss:     1.1856 Validation Accuracy: 0.511000\n",
      "Epoch  5, CIFAR-10 Batch 4:  Loss:     1.2084 Validation Accuracy: 0.530200\n",
      "Epoch  5, CIFAR-10 Batch 5:  Loss:     1.2633 Validation Accuracy: 0.522000\n",
      "Epoch  6, CIFAR-10 Batch 1:  Loss:     1.3854 Validation Accuracy: 0.533400\n",
      "Epoch  6, CIFAR-10 Batch 2:  Loss:     1.2732 Validation Accuracy: 0.524200\n",
      "Epoch  6, CIFAR-10 Batch 3:  Loss:     1.0985 Validation Accuracy: 0.532200\n",
      "Epoch  6, CIFAR-10 Batch 4:  Loss:     1.1211 Validation Accuracy: 0.552600\n",
      "Epoch  6, CIFAR-10 Batch 5:  Loss:     1.1249 Validation Accuracy: 0.554000\n",
      "Epoch  7, CIFAR-10 Batch 1:  Loss:     1.2310 Validation Accuracy: 0.566400\n",
      "Epoch  7, CIFAR-10 Batch 2:  Loss:     1.1443 Validation Accuracy: 0.552800\n",
      "Epoch  7, CIFAR-10 Batch 3:  Loss:     1.0031 Validation Accuracy: 0.568000\n",
      "Epoch  7, CIFAR-10 Batch 4:  Loss:     1.0442 Validation Accuracy: 0.578000\n",
      "Epoch  7, CIFAR-10 Batch 5:  Loss:     1.0430 Validation Accuracy: 0.564800\n",
      "Epoch  8, CIFAR-10 Batch 1:  Loss:     1.1291 Validation Accuracy: 0.584000\n",
      "Epoch  8, CIFAR-10 Batch 2:  Loss:     1.0844 Validation Accuracy: 0.577200\n",
      "Epoch  8, CIFAR-10 Batch 3:  Loss:     0.9576 Validation Accuracy: 0.572400\n",
      "Epoch  8, CIFAR-10 Batch 4:  Loss:     0.9665 Validation Accuracy: 0.578000\n",
      "Epoch  8, CIFAR-10 Batch 5:  Loss:     1.0256 Validation Accuracy: 0.577800\n",
      "Epoch  9, CIFAR-10 Batch 1:  Loss:     1.0612 Validation Accuracy: 0.594200\n",
      "Epoch  9, CIFAR-10 Batch 2:  Loss:     0.9885 Validation Accuracy: 0.592800\n",
      "Epoch  9, CIFAR-10 Batch 3:  Loss:     0.9043 Validation Accuracy: 0.587600\n",
      "Epoch  9, CIFAR-10 Batch 4:  Loss:     0.9490 Validation Accuracy: 0.601400\n",
      "Epoch  9, CIFAR-10 Batch 5:  Loss:     0.9085 Validation Accuracy: 0.594600\n",
      "Epoch 10, CIFAR-10 Batch 1:  Loss:     0.9891 Validation Accuracy: 0.613600\n",
      "Epoch 10, CIFAR-10 Batch 2:  Loss:     0.9385 Validation Accuracy: 0.602800\n",
      "Epoch 10, CIFAR-10 Batch 3:  Loss:     0.8766 Validation Accuracy: 0.594200\n",
      "Epoch 10, CIFAR-10 Batch 4:  Loss:     0.8936 Validation Accuracy: 0.614400\n",
      "Epoch 10, CIFAR-10 Batch 5:  Loss:     0.8591 Validation Accuracy: 0.605400\n",
      "Epoch 11, CIFAR-10 Batch 1:  Loss:     0.9643 Validation Accuracy: 0.611800\n",
      "Epoch 11, CIFAR-10 Batch 2:  Loss:     0.9032 Validation Accuracy: 0.602800\n",
      "Epoch 11, CIFAR-10 Batch 3:  Loss:     0.7591 Validation Accuracy: 0.622000\n",
      "Epoch 11, CIFAR-10 Batch 4:  Loss:     0.7975 Validation Accuracy: 0.632600\n",
      "Epoch 11, CIFAR-10 Batch 5:  Loss:     0.8044 Validation Accuracy: 0.625200\n",
      "Epoch 12, CIFAR-10 Batch 1:  Loss:     0.8717 Validation Accuracy: 0.627200\n",
      "Epoch 12, CIFAR-10 Batch 2:  Loss:     0.8943 Validation Accuracy: 0.597400\n",
      "Epoch 12, CIFAR-10 Batch 3:  Loss:     0.7391 Validation Accuracy: 0.622000\n",
      "Epoch 12, CIFAR-10 Batch 4:  Loss:     0.7771 Validation Accuracy: 0.633000\n",
      "Epoch 12, CIFAR-10 Batch 5:  Loss:     0.8366 Validation Accuracy: 0.611600\n",
      "Epoch 13, CIFAR-10 Batch 1:  Loss:     0.8154 Validation Accuracy: 0.637200\n",
      "Epoch 13, CIFAR-10 Batch 2:  Loss:     0.7972 Validation Accuracy: 0.612600\n",
      "Epoch 13, CIFAR-10 Batch 3:  Loss:     0.7486 Validation Accuracy: 0.616800\n",
      "Epoch 13, CIFAR-10 Batch 4:  Loss:     0.6712 Validation Accuracy: 0.649800\n",
      "Epoch 13, CIFAR-10 Batch 5:  Loss:     0.8088 Validation Accuracy: 0.612200\n",
      "Epoch 14, CIFAR-10 Batch 1:  Loss:     0.7991 Validation Accuracy: 0.645200\n",
      "Epoch 14, CIFAR-10 Batch 2:  Loss:     0.7450 Validation Accuracy: 0.626600\n",
      "Epoch 14, CIFAR-10 Batch 3:  Loss:     0.6368 Validation Accuracy: 0.639000\n",
      "Epoch 14, CIFAR-10 Batch 4:  Loss:     0.6758 Validation Accuracy: 0.643200\n",
      "Epoch 14, CIFAR-10 Batch 5:  Loss:     0.7390 Validation Accuracy: 0.625600\n",
      "Epoch 15, CIFAR-10 Batch 1:  Loss:     0.7980 Validation Accuracy: 0.632000\n",
      "Epoch 15, CIFAR-10 Batch 2:  Loss:     0.7212 Validation Accuracy: 0.622800\n",
      "Epoch 15, CIFAR-10 Batch 3:  Loss:     0.6951 Validation Accuracy: 0.614600\n",
      "Epoch 15, CIFAR-10 Batch 4:  Loss:     0.6086 Validation Accuracy: 0.649800\n",
      "Epoch 15, CIFAR-10 Batch 5:  Loss:     0.6342 Validation Accuracy: 0.644800\n",
      "Epoch 16, CIFAR-10 Batch 1:  Loss:     0.7675 Validation Accuracy: 0.639400\n",
      "Epoch 16, CIFAR-10 Batch 2:  Loss:     0.6798 Validation Accuracy: 0.642400\n",
      "Epoch 16, CIFAR-10 Batch 3:  Loss:     0.6132 Validation Accuracy: 0.632000\n",
      "Epoch 16, CIFAR-10 Batch 4:  Loss:     0.5489 Validation Accuracy: 0.656800\n",
      "Epoch 16, CIFAR-10 Batch 5:  Loss:     0.6502 Validation Accuracy: 0.636600\n",
      "Epoch 17, CIFAR-10 Batch 1:  Loss:     0.6568 Validation Accuracy: 0.647400\n",
      "Epoch 17, CIFAR-10 Batch 2:  Loss:     0.6761 Validation Accuracy: 0.638000\n",
      "Epoch 17, CIFAR-10 Batch 3:  Loss:     0.5537 Validation Accuracy: 0.640200\n",
      "Epoch 17, CIFAR-10 Batch 4:  Loss:     0.5660 Validation Accuracy: 0.640000\n",
      "Epoch 17, CIFAR-10 Batch 5:  Loss:     0.6193 Validation Accuracy: 0.650400\n",
      "Epoch 18, CIFAR-10 Batch 1:  Loss:     0.6079 Validation Accuracy: 0.650200\n",
      "Epoch 18, CIFAR-10 Batch 2:  Loss:     0.6711 Validation Accuracy: 0.639400\n",
      "Epoch 18, CIFAR-10 Batch 3:  Loss:     0.5340 Validation Accuracy: 0.643200\n",
      "Epoch 18, CIFAR-10 Batch 4:  Loss:     0.5478 Validation Accuracy: 0.633800\n",
      "Epoch 18, CIFAR-10 Batch 5:  Loss:     0.5818 Validation Accuracy: 0.650600\n",
      "Epoch 19, CIFAR-10 Batch 1:  Loss:     0.5617 Validation Accuracy: 0.658800\n",
      "Epoch 19, CIFAR-10 Batch 2:  Loss:     0.6137 Validation Accuracy: 0.641800\n",
      "Epoch 19, CIFAR-10 Batch 3:  Loss:     0.4868 Validation Accuracy: 0.638200\n",
      "Epoch 19, CIFAR-10 Batch 4:  Loss:     0.4831 Validation Accuracy: 0.652800\n",
      "Epoch 19, CIFAR-10 Batch 5:  Loss:     0.5513 Validation Accuracy: 0.643800\n",
      "Epoch 20, CIFAR-10 Batch 1:  Loss:     0.5557 Validation Accuracy: 0.640800\n",
      "Epoch 20, CIFAR-10 Batch 2:  Loss:     0.6077 Validation Accuracy: 0.638600\n",
      "Epoch 20, CIFAR-10 Batch 3:  Loss:     0.4141 Validation Accuracy: 0.652800\n",
      "Epoch 20, CIFAR-10 Batch 4:  Loss:     0.4500 Validation Accuracy: 0.650400\n",
      "Epoch 20, CIFAR-10 Batch 5:  Loss:     0.5610 Validation Accuracy: 0.647800\n",
      "Epoch 21, CIFAR-10 Batch 1:  Loss:     0.5394 Validation Accuracy: 0.650000\n",
      "Epoch 21, CIFAR-10 Batch 2:  Loss:     0.5370 Validation Accuracy: 0.638200\n",
      "Epoch 21, CIFAR-10 Batch 3:  Loss:     0.4311 Validation Accuracy: 0.644600\n",
      "Epoch 21, CIFAR-10 Batch 4:  Loss:     0.4773 Validation Accuracy: 0.646200\n",
      "Epoch 21, CIFAR-10 Batch 5:  Loss:     0.5757 Validation Accuracy: 0.635400\n",
      "Epoch 22, CIFAR-10 Batch 1:  Loss:     0.4653 Validation Accuracy: 0.648200\n",
      "Epoch 22, CIFAR-10 Batch 2:  Loss:     0.5524 Validation Accuracy: 0.635400\n",
      "Epoch 22, CIFAR-10 Batch 3:  Loss:     0.3963 Validation Accuracy: 0.653600\n",
      "Epoch 22, CIFAR-10 Batch 4:  Loss:     0.3871 Validation Accuracy: 0.662200\n",
      "Epoch 22, CIFAR-10 Batch 5:  Loss:     0.5585 Validation Accuracy: 0.636000\n",
      "Epoch 23, CIFAR-10 Batch 1:  Loss:     0.4801 Validation Accuracy: 0.635600\n",
      "Epoch 23, CIFAR-10 Batch 2:  Loss:     0.5915 Validation Accuracy: 0.628000\n",
      "Epoch 23, CIFAR-10 Batch 3:  Loss:     0.3935 Validation Accuracy: 0.648800\n",
      "Epoch 23, CIFAR-10 Batch 4:  Loss:     0.3719 Validation Accuracy: 0.666000\n",
      "Epoch 23, CIFAR-10 Batch 5:  Loss:     0.4749 Validation Accuracy: 0.645600\n",
      "Epoch 24, CIFAR-10 Batch 1:  Loss:     0.4403 Validation Accuracy: 0.650000\n",
      "Epoch 24, CIFAR-10 Batch 2:  Loss:     0.4960 Validation Accuracy: 0.638600\n",
      "Epoch 24, CIFAR-10 Batch 3:  Loss:     0.3753 Validation Accuracy: 0.660400\n",
      "Epoch 24, CIFAR-10 Batch 4:  Loss:     0.3494 Validation Accuracy: 0.669400\n",
      "Epoch 24, CIFAR-10 Batch 5:  Loss:     0.4469 Validation Accuracy: 0.646200\n",
      "Epoch 25, CIFAR-10 Batch 1:  Loss:     0.4430 Validation Accuracy: 0.651600\n",
      "Epoch 25, CIFAR-10 Batch 2:  Loss:     0.4376 Validation Accuracy: 0.650800\n",
      "Epoch 25, CIFAR-10 Batch 3:  Loss:     0.3928 Validation Accuracy: 0.662200\n",
      "Epoch 25, CIFAR-10 Batch 4:  Loss:     0.3828 Validation Accuracy: 0.664200\n",
      "Epoch 25, CIFAR-10 Batch 5:  Loss:     0.3961 Validation Accuracy: 0.656600\n",
      "Epoch 26, CIFAR-10 Batch 1:  Loss:     0.4369 Validation Accuracy: 0.640000\n",
      "Epoch 26, CIFAR-10 Batch 2:  Loss:     0.4420 Validation Accuracy: 0.648600\n",
      "Epoch 26, CIFAR-10 Batch 3:  Loss:     0.3708 Validation Accuracy: 0.648000\n",
      "Epoch 26, CIFAR-10 Batch 4:  Loss:     0.3492 Validation Accuracy: 0.660000\n",
      "Epoch 26, CIFAR-10 Batch 5:  Loss:     0.3832 Validation Accuracy: 0.652800\n",
      "Epoch 27, CIFAR-10 Batch 1:  Loss:     0.3464 Validation Accuracy: 0.663000\n",
      "Epoch 27, CIFAR-10 Batch 2:  Loss:     0.4195 Validation Accuracy: 0.647600\n",
      "Epoch 27, CIFAR-10 Batch 3:  Loss:     0.3688 Validation Accuracy: 0.644400\n",
      "Epoch 27, CIFAR-10 Batch 4:  Loss:     0.3440 Validation Accuracy: 0.655000\n",
      "Epoch 27, CIFAR-10 Batch 5:  Loss:     0.3554 Validation Accuracy: 0.656800\n",
      "Epoch 28, CIFAR-10 Batch 1:  Loss:     0.3503 Validation Accuracy: 0.655600\n",
      "Epoch 28, CIFAR-10 Batch 2:  Loss:     0.3855 Validation Accuracy: 0.649600\n",
      "Epoch 28, CIFAR-10 Batch 3:  Loss:     0.3645 Validation Accuracy: 0.642400\n",
      "Epoch 28, CIFAR-10 Batch 4:  Loss:     0.3275 Validation Accuracy: 0.657200\n",
      "Epoch 28, CIFAR-10 Batch 5:  Loss:     0.3410 Validation Accuracy: 0.658200\n",
      "Epoch 29, CIFAR-10 Batch 1:  Loss:     0.3509 Validation Accuracy: 0.665600\n",
      "Epoch 29, CIFAR-10 Batch 2:  Loss:     0.3634 Validation Accuracy: 0.649400\n",
      "Epoch 29, CIFAR-10 Batch 3:  Loss:     0.3499 Validation Accuracy: 0.644400\n",
      "Epoch 29, CIFAR-10 Batch 4:  Loss:     0.3125 Validation Accuracy: 0.651200\n",
      "Epoch 29, CIFAR-10 Batch 5:  Loss:     0.3135 Validation Accuracy: 0.653400\n",
      "Epoch 30, CIFAR-10 Batch 1:  Loss:     0.3087 Validation Accuracy: 0.664200\n",
      "Epoch 30, CIFAR-10 Batch 2:  Loss:     0.3550 Validation Accuracy: 0.639400\n",
      "Epoch 30, CIFAR-10 Batch 3:  Loss:     0.3147 Validation Accuracy: 0.639000\n",
      "Epoch 30, CIFAR-10 Batch 4:  Loss:     0.3458 Validation Accuracy: 0.642200\n",
      "Epoch 30, CIFAR-10 Batch 5:  Loss:     0.3463 Validation Accuracy: 0.657800\n",
      "Epoch 31, CIFAR-10 Batch 1:  Loss:     0.3418 Validation Accuracy: 0.655200\n",
      "Epoch 31, CIFAR-10 Batch 2:  Loss:     0.3695 Validation Accuracy: 0.637400\n",
      "Epoch 31, CIFAR-10 Batch 3:  Loss:     0.2825 Validation Accuracy: 0.642800\n",
      "Epoch 31, CIFAR-10 Batch 4:  Loss:     0.3154 Validation Accuracy: 0.642800\n",
      "Epoch 31, CIFAR-10 Batch 5:  Loss:     0.3232 Validation Accuracy: 0.646600\n",
      "Epoch 32, CIFAR-10 Batch 1:  Loss:     0.2959 Validation Accuracy: 0.654000\n",
      "Epoch 32, CIFAR-10 Batch 2:  Loss:     0.3076 Validation Accuracy: 0.647200\n",
      "Epoch 32, CIFAR-10 Batch 3:  Loss:     0.2617 Validation Accuracy: 0.629600\n",
      "Epoch 32, CIFAR-10 Batch 4:  Loss:     0.3088 Validation Accuracy: 0.634200\n",
      "Epoch 32, CIFAR-10 Batch 5:  Loss:     0.3197 Validation Accuracy: 0.649800\n",
      "Epoch 33, CIFAR-10 Batch 1:  Loss:     0.2871 Validation Accuracy: 0.650400\n",
      "Epoch 33, CIFAR-10 Batch 2:  Loss:     0.3051 Validation Accuracy: 0.648800\n",
      "Epoch 33, CIFAR-10 Batch 3:  Loss:     0.2601 Validation Accuracy: 0.643200\n",
      "Epoch 33, CIFAR-10 Batch 4:  Loss:     0.2734 Validation Accuracy: 0.643600\n",
      "Epoch 33, CIFAR-10 Batch 5:  Loss:     0.2890 Validation Accuracy: 0.656200\n",
      "Epoch 34, CIFAR-10 Batch 1:  Loss:     0.2552 Validation Accuracy: 0.641600\n",
      "Epoch 34, CIFAR-10 Batch 2:  Loss:     0.3205 Validation Accuracy: 0.644600\n",
      "Epoch 34, CIFAR-10 Batch 3:  Loss:     0.2629 Validation Accuracy: 0.651000\n",
      "Epoch 34, CIFAR-10 Batch 4:  Loss:     0.2826 Validation Accuracy: 0.638600\n",
      "Epoch 34, CIFAR-10 Batch 5:  Loss:     0.3068 Validation Accuracy: 0.648800\n",
      "Epoch 35, CIFAR-10 Batch 1:  Loss:     0.2539 Validation Accuracy: 0.657800\n",
      "Epoch 35, CIFAR-10 Batch 2:  Loss:     0.2719 Validation Accuracy: 0.659400\n",
      "Epoch 35, CIFAR-10 Batch 3:  Loss:     0.2449 Validation Accuracy: 0.656600\n",
      "Epoch 35, CIFAR-10 Batch 4:  Loss:     0.2593 Validation Accuracy: 0.642000\n",
      "Epoch 35, CIFAR-10 Batch 5:  Loss:     0.2686 Validation Accuracy: 0.652600\n",
      "Epoch 36, CIFAR-10 Batch 1:  Loss:     0.2546 Validation Accuracy: 0.656400\n",
      "Epoch 36, CIFAR-10 Batch 2:  Loss:     0.3158 Validation Accuracy: 0.642200\n",
      "Epoch 36, CIFAR-10 Batch 3:  Loss:     0.2092 Validation Accuracy: 0.654200\n",
      "Epoch 36, CIFAR-10 Batch 4:  Loss:     0.2700 Validation Accuracy: 0.648400\n",
      "Epoch 36, CIFAR-10 Batch 5:  Loss:     0.2754 Validation Accuracy: 0.652000\n",
      "Epoch 37, CIFAR-10 Batch 1:  Loss:     0.2638 Validation Accuracy: 0.654200\n",
      "Epoch 37, CIFAR-10 Batch 2:  Loss:     0.2789 Validation Accuracy: 0.635200\n",
      "Epoch 37, CIFAR-10 Batch 3:  Loss:     0.2301 Validation Accuracy: 0.643800\n",
      "Epoch 37, CIFAR-10 Batch 4:  Loss:     0.2617 Validation Accuracy: 0.649200\n",
      "Epoch 37, CIFAR-10 Batch 5:  Loss:     0.2540 Validation Accuracy: 0.654400\n",
      "Epoch 38, CIFAR-10 Batch 1:  Loss:     0.2345 Validation Accuracy: 0.655000\n",
      "Epoch 38, CIFAR-10 Batch 2:  Loss:     0.2605 Validation Accuracy: 0.647800\n",
      "Epoch 38, CIFAR-10 Batch 3:  Loss:     0.2110 Validation Accuracy: 0.648800\n",
      "Epoch 38, CIFAR-10 Batch 4:  Loss:     0.2557 Validation Accuracy: 0.645200\n",
      "Epoch 38, CIFAR-10 Batch 5:  Loss:     0.2500 Validation Accuracy: 0.653000\n",
      "Epoch 39, CIFAR-10 Batch 1:  Loss:     0.1852 Validation Accuracy: 0.661400\n",
      "Epoch 39, CIFAR-10 Batch 2:  Loss:     0.2776 Validation Accuracy: 0.639600\n",
      "Epoch 39, CIFAR-10 Batch 3:  Loss:     0.2572 Validation Accuracy: 0.638200\n",
      "Epoch 39, CIFAR-10 Batch 4:  Loss:     0.2413 Validation Accuracy: 0.640000\n",
      "Epoch 39, CIFAR-10 Batch 5:  Loss:     0.2392 Validation Accuracy: 0.645600\n",
      "Epoch 40, CIFAR-10 Batch 1:  Loss:     0.2002 Validation Accuracy: 0.655600\n",
      "Epoch 40, CIFAR-10 Batch 2:  Loss:     0.2222 Validation Accuracy: 0.638800\n",
      "Epoch 40, CIFAR-10 Batch 3:  Loss:     0.2271 Validation Accuracy: 0.633200\n",
      "Epoch 40, CIFAR-10 Batch 4:  Loss:     0.2038 Validation Accuracy: 0.650400\n",
      "Epoch 40, CIFAR-10 Batch 5:  Loss:     0.2536 Validation Accuracy: 0.646000\n",
      "Epoch 41, CIFAR-10 Batch 1:  Loss:     0.2039 Validation Accuracy: 0.653800\n",
      "Epoch 41, CIFAR-10 Batch 2:  Loss:     0.2160 Validation Accuracy: 0.651800\n",
      "Epoch 41, CIFAR-10 Batch 3:  Loss:     0.1868 Validation Accuracy: 0.643600\n",
      "Epoch 41, CIFAR-10 Batch 4:  Loss:     0.1981 Validation Accuracy: 0.640600\n",
      "Epoch 41, CIFAR-10 Batch 5:  Loss:     0.1952 Validation Accuracy: 0.653800\n",
      "Epoch 42, CIFAR-10 Batch 1:  Loss:     0.1777 Validation Accuracy: 0.656600\n",
      "Epoch 42, CIFAR-10 Batch 2:  Loss:     0.1944 Validation Accuracy: 0.651000\n",
      "Epoch 42, CIFAR-10 Batch 3:  Loss:     0.1927 Validation Accuracy: 0.647600\n",
      "Epoch 42, CIFAR-10 Batch 4:  Loss:     0.2131 Validation Accuracy: 0.649400\n",
      "Epoch 42, CIFAR-10 Batch 5:  Loss:     0.2326 Validation Accuracy: 0.656400\n",
      "Epoch 43, CIFAR-10 Batch 1:  Loss:     0.1792 Validation Accuracy: 0.652600\n",
      "Epoch 43, CIFAR-10 Batch 2:  Loss:     0.1830 Validation Accuracy: 0.646600\n",
      "Epoch 43, CIFAR-10 Batch 3:  Loss:     0.1863 Validation Accuracy: 0.637800\n",
      "Epoch 43, CIFAR-10 Batch 4:  Loss:     0.1953 Validation Accuracy: 0.631800\n",
      "Epoch 43, CIFAR-10 Batch 5:  Loss:     0.2125 Validation Accuracy: 0.652000\n",
      "Epoch 44, CIFAR-10 Batch 1:  Loss:     0.1717 Validation Accuracy: 0.668800\n",
      "Epoch 44, CIFAR-10 Batch 2:  Loss:     0.1889 Validation Accuracy: 0.637200\n",
      "Epoch 44, CIFAR-10 Batch 3:  Loss:     0.1331 Validation Accuracy: 0.654000\n",
      "Epoch 44, CIFAR-10 Batch 4:  Loss:     0.2097 Validation Accuracy: 0.624200\n",
      "Epoch 44, CIFAR-10 Batch 5:  Loss:     0.1904 Validation Accuracy: 0.648600\n",
      "Epoch 45, CIFAR-10 Batch 1:  Loss:     0.1753 Validation Accuracy: 0.665200\n",
      "Epoch 45, CIFAR-10 Batch 2:  Loss:     0.2081 Validation Accuracy: 0.646400\n",
      "Epoch 45, CIFAR-10 Batch 3:  Loss:     0.1608 Validation Accuracy: 0.637400\n",
      "Epoch 45, CIFAR-10 Batch 4:  Loss:     0.2203 Validation Accuracy: 0.625400\n",
      "Epoch 45, CIFAR-10 Batch 5:  Loss:     0.1880 Validation Accuracy: 0.662800\n",
      "Epoch 46, CIFAR-10 Batch 1:  Loss:     0.1635 Validation Accuracy: 0.666400\n",
      "Epoch 46, CIFAR-10 Batch 2:  Loss:     0.1982 Validation Accuracy: 0.642800\n",
      "Epoch 46, CIFAR-10 Batch 3:  Loss:     0.1550 Validation Accuracy: 0.645200\n",
      "Epoch 46, CIFAR-10 Batch 4:  Loss:     0.2147 Validation Accuracy: 0.632800\n",
      "Epoch 46, CIFAR-10 Batch 5:  Loss:     0.1661 Validation Accuracy: 0.664200\n",
      "Epoch 47, CIFAR-10 Batch 1:  Loss:     0.1463 Validation Accuracy: 0.652800\n",
      "Epoch 47, CIFAR-10 Batch 2:  Loss:     0.1777 Validation Accuracy: 0.644800\n",
      "Epoch 47, CIFAR-10 Batch 3:  Loss:     0.1730 Validation Accuracy: 0.643600\n",
      "Epoch 47, CIFAR-10 Batch 4:  Loss:     0.2582 Validation Accuracy: 0.627400\n",
      "Epoch 47, CIFAR-10 Batch 5:  Loss:     0.2042 Validation Accuracy: 0.648200\n",
      "Epoch 48, CIFAR-10 Batch 1:  Loss:     0.1464 Validation Accuracy: 0.664000\n",
      "Epoch 48, CIFAR-10 Batch 2:  Loss:     0.1691 Validation Accuracy: 0.649200\n",
      "Epoch 48, CIFAR-10 Batch 3:  Loss:     0.1334 Validation Accuracy: 0.645400\n",
      "Epoch 48, CIFAR-10 Batch 4:  Loss:     0.2087 Validation Accuracy: 0.623200\n",
      "Epoch 48, CIFAR-10 Batch 5:  Loss:     0.1950 Validation Accuracy: 0.644200\n",
      "Epoch 49, CIFAR-10 Batch 1:  Loss:     0.1642 Validation Accuracy: 0.653000\n",
      "Epoch 49, CIFAR-10 Batch 2:  Loss:     0.1814 Validation Accuracy: 0.643600\n",
      "Epoch 49, CIFAR-10 Batch 3:  Loss:     0.1648 Validation Accuracy: 0.630200\n",
      "Epoch 49, CIFAR-10 Batch 4:  Loss:     0.2821 Validation Accuracy: 0.624800\n",
      "Epoch 49, CIFAR-10 Batch 5:  Loss:     0.2259 Validation Accuracy: 0.633800\n",
      "Epoch 50, CIFAR-10 Batch 1:  Loss:     0.1530 Validation Accuracy: 0.655200\n",
      "Epoch 50, CIFAR-10 Batch 2:  Loss:     0.2193 Validation Accuracy: 0.649400\n",
      "Epoch 50, CIFAR-10 Batch 3:  Loss:     0.1676 Validation Accuracy: 0.638800\n",
      "Epoch 50, CIFAR-10 Batch 4:  Loss:     0.2442 Validation Accuracy: 0.631600\n",
      "Epoch 50, CIFAR-10 Batch 5:  Loss:     0.1846 Validation Accuracy: 0.651400\n"
     ]
    }
   ],
   "source": [
    "\"\"\"\n",
    "DON'T MODIFY ANYTHING IN THIS CELL\n",
    "\"\"\"\n",
    "save_model_path = './image_classification'\n",
    "\n",
    "print('Training...')\n",
    "with tf.Session() as sess:\n",
    "    # Initializing the variables\n",
    "    sess.run(tf.global_variables_initializer())\n",
    "    \n",
    "    # Training cycle\n",
    "    for epoch in range(epochs):\n",
    "        # Loop over all batches\n",
    "        n_batches = 5\n",
    "        for batch_i in range(1, n_batches + 1):\n",
    "            for batch_features, batch_labels in helper.load_preprocess_training_batch(batch_i, batch_size):\n",
    "                train_neural_network(sess, optimizer, keep_probability, batch_features, batch_labels)\n",
    "            print('Epoch {:>2}, CIFAR-10 Batch {}:  '.format(epoch + 1, batch_i), end='')\n",
    "            print_stats(sess, batch_features, batch_labels, cost, accuracy)\n",
    "            \n",
    "    # Save Model\n",
    "    saver = tf.train.Saver()\n",
    "    save_path = saver.save(sess, save_model_path)"
   ]
  },
  {
   "cell_type": "markdown",
   "metadata": {},
   "source": [
    "# Checkpoint\n",
    "The model has been saved to disk.\n",
    "## Test Model\n",
    "Test your model against the test dataset.  This will be your final accuracy. You should have an accuracy greater than 50%. If you don't, keep tweaking the model architecture and parameters."
   ]
  },
  {
   "cell_type": "code",
   "execution_count": 28,
   "metadata": {
    "collapsed": false
   },
   "outputs": [
    {
     "name": "stdout",
     "output_type": "stream",
     "text": [
      "Testing Accuracy: 0.6450022965669632\n",
      "\n"
     ]
    },
    {
     "data": {
      "image/png": "[encoded data removed]",
      "text/plain": [
       "<matplotlib.figure.Figure at 0x7f1200231f28>"
      ]
     },
     "metadata": {
      "image/png": {
       "height": 319,
       "width": 355
      }
     },
     "output_type": "display_data"
    }
   ],
   "source": [
    "\"\"\"\n",
    "DON'T MODIFY ANYTHING IN THIS CELL\n",
    "\"\"\"\n",
    "%matplotlib inline\n",
    "%config InlineBackend.figure_format = 'retina'\n",
    "\n",
    "import tensorflow as tf\n",
    "import pickle\n",
    "import helper\n",
    "import random\n",
    "\n",
    "# Set batch size if not already set\n",
    "try:\n",
    "    if batch_size:\n",
    "        pass\n",
    "except NameError:\n",
    "    batch_size = 64\n",
    "\n",
    "save_model_path = './image_classification'\n",
    "n_samples = 4\n",
    "top_n_predictions = 3\n",
    "\n",
    "def test_model():\n",
    "    \"\"\"\n",
    "    Test the saved model against the test dataset\n",
    "    \"\"\"\n",
    "\n",
    "    test_features, test_labels = pickle.load(open('preprocess_training.p', mode='rb'))\n",
    "    loaded_graph = tf.Graph()\n",
    "\n",
    "    with tf.Session(graph=loaded_graph) as sess:\n",
    "        # Load model\n",
    "        loader = tf.train.import_meta_graph(save_model_path + '.meta')\n",
    "        loader.restore(sess, save_model_path)\n",
    "\n",
    "        # Get Tensors from loaded model\n",
    "        loaded_x = loaded_graph.get_tensor_by_name('x:0')\n",
    "        loaded_y = loaded_graph.get_tensor_by_name('y:0')\n",
    "        loaded_keep_prob = loaded_graph.get_tensor_by_name('keep_prob:0')\n",
    "        loaded_logits = loaded_graph.get_tensor_by_name('logits:0')\n",
    "        loaded_acc = loaded_graph.get_tensor_by_name('accuracy:0')\n",
    "        \n",
    "        # Get accuracy in batches for memory limitations\n",
    "        test_batch_acc_total = 0\n",
    "        test_batch_count = 0\n",
    "        \n",
    "        for train_feature_batch, train_label_batch in helper.batch_features_labels(test_features, test_labels, batch_size):\n",
    "            test_batch_acc_total += sess.run(\n",
    "                loaded_acc,\n",
    "                feed_dict={loaded_x: train_feature_batch, loaded_y: train_label_batch, loaded_keep_prob: 1.0})\n",
    "            test_batch_count += 1\n",
    "\n",
    "        print('Testing Accuracy: {}\\n'.format(test_batch_acc_total/test_batch_count))\n",
    "\n",
    "        # Print Random Samples\n",
    "        random_test_features, random_test_labels = tuple(zip(*random.sample(list(zip(test_features, test_labels)), n_samples)))\n",
    "        random_test_predictions = sess.run(\n",
    "            tf.nn.top_k(tf.nn.softmax(loaded_logits), top_n_predictions),\n",
    "            feed_dict={loaded_x: random_test_features, loaded_y: random_test_labels, loaded_keep_prob: 1.0})\n",
    "        helper.display_image_predictions(random_test_features, random_test_labels, random_test_predictions)\n",
    "\n",
    "\n",
    "test_model()"
   ]
  },
  {
   "cell_type": "markdown",
   "metadata": {},
   "source": [
    "## Why 50-80% Accuracy?\n",
    "You might be wondering why you can't get an accuracy any higher. First things first, 50% isn't bad for a simple CNN.  Pure guessing would get you 10% accuracy. However, you might notice people are getting scores [well above 80%](http://rodrigob.github.io/are_we_there_yet/build/classification_datasets_results.html#43494641522d3130).  That's because we haven't taught you all there is to know about neural networks. We still need to cover a few more techniques.\n",
    "## Submitting This Project\n",
    "When submitting this project, make sure to run all the cells before saving the notebook.  Save the notebook file as \"dlnd_image_classification.ipynb\" and save it as a HTML file under \"File\" -> \"Download as\".  Include the \"helper.py\" and \"problem_unittests.py\" files in your submission."
   ]
  }
 ],
 "metadata": {
  "kernelspec": {
   "display_name": "Python 3",
   "language": "python",
   "name": "python3"
  },
  "language_info": {
   "codemirror_mode": {
    "name": "ipython",
    "version": 3
   },
   "file_extension": ".py",
   "mimetype": "text/x-python",
   "name": "python",
   "nbconvert_exporter": "python",
   "pygments_lexer": "ipython3",
   "version": "3.6.0"
  }
 },
 "nbformat": 4,
 "nbformat_minor": 0
}
